{
 "cells": [
  {
   "cell_type": "markdown",
   "metadata": {
    "application/vnd.databricks.v1+cell": {
     "cellMetadata": {
      "byteLimit": 2048000,
      "rowLimit": 10000
     },
     "inputWidgets": {},
     "nuid": "6590e29e-52e8-473f-a272-51d6d73991fe",
     "showTitle": false,
     "title": ""
    }
   },
   "source": [
    "#Unraveling Global Conflict Patterns\n",
    "\n",
    "In our interconnected world, conflicts hold profound implications for societies, economies, and international relations. These conflicts, spanning from local disputes to global tensions, underscore the importance of understanding their origins, dynamics, and consequences.\n",
    "\n",
    "The *Uppsala Conflict Data Program (UCDP)* serves as a valuable resource in this pursuit, offering a comprehensive dataset that captures diverse facets of global conflicts. Analyzing conflict data can illuminate vital insights for promoting peace and stability.\n",
    "\n",
    "This project aims to underscore the significance of grasping global conflicts using the [UCDP dataset](https://ucdp.uu.se/downloads/). It is tailored for policymakers, researchers, and analysts who seek evidence-based insights to shape informed decisions and interventions. By analyzing this data, we seek to address critical questions such as:\n",
    "\n",
    "- **What types of conflicts are most prevalent across different regions?**\n",
    "- **How do casualties evolve from year to year, revealing shifts in conflict trends?**\n",
    "- **What insights can we glean from studying conflict occurrences and casualties by type and region?**\n",
    "\n",
    "By delving into the UCDP dataset, we embark on a journey to unravel the complexities of global conflicts, contributing to informed decision-making and a deeper comprehension of our world's intricacies.\n",
    "\n",
    "Let's dive into the UCDP dataset to uncover insights that contribute to a more peaceful and harmonious global landscape, tailored for the needs of policymakers, researchers, and analysts."
   ]
  },
  {
   "cell_type": "markdown",
   "metadata": {
    "application/vnd.databricks.v1+cell": {
     "cellMetadata": {
      "byteLimit": 2048000,
      "rowLimit": 10000
     },
     "inputWidgets": {},
     "nuid": "e3a06443-65e6-42cb-b866-10ff9e0a5f8e",
     "showTitle": false,
     "title": ""
    }
   },
   "source": [
    "**Looking at the Dataset.**</p>\n",
    "This query provides a glimpse of the dataset's structure by displaying the first 10 rows"
   ]
  },
  {
   "cell_type": "code",
   "execution_count": null,
   "metadata": {
    "application/vnd.databricks.v1+cell": {
     "cellMetadata": {
      "byteLimit": 2048000,
      "rowLimit": 10000
     },
     "inputWidgets": {},
     "nuid": "55ed2f2a-deb6-4776-ac6d-ac6fc4883e62",
     "showTitle": false,
     "title": ""
    }
   },
   "outputs": [
    {
     "data": {
      "text/html": [
       "<style scoped>\n",
       "  .table-result-container {\n",
       "    max-height: 300px;\n",
       "    overflow: auto;\n",
       "  }\n",
       "  table, th, td {\n",
       "    border: 1px solid black;\n",
       "    border-collapse: collapse;\n",
       "  }\n",
       "  th, td {\n",
       "    padding: 5px;\n",
       "  }\n",
       "  th {\n",
       "    text-align: left;\n",
       "  }\n",
       "</style><div class='table-result-container'><table class='table-result'><thead style='background-color: white'><tr><th>id</th><th>relid</th><th>year</th><th>active_year</th><th>code_status</th><th>type_of_violence</th><th>conflict_dset_id</th><th>conflict_new_id</th><th>dyad_dset_id</th><th>dyad_new_id</th><th>dyad_name</th><th>side_a_dset_id</th><th>side_a_new_id</th><th>side_a</th><th>side_b_dset_id</th><th>side_b_new_id</th><th>side_b</th><th>where_prec</th><th>where_coordinates</th><th>latitude</th><th>longitude</th><th>geom_wkt</th><th>priogrid_gid</th><th>country</th><th>country_id</th><th>region</th><th>event_clarity</th><th>date_prec</th><th>date_start</th><th>date_end</th><th>deaths_a</th><th>deaths_b</th><th>deaths_civilians</th><th>deaths_unknown</th><th>best</th><th>high</th><th>low</th><th>gwnoa</th><th>gwnob</th></tr></thead><tbody><tr><td>244657</td><td>IRQ-2017-1-524-322</td><td>2017-01-01T00:00:00.000+0000</td><td>1</td><td>Clear</td><td>1</td><td>259</td><td>259</td><td>524</td><td>524</td><td>Government of Iraq - IS</td><td>116</td><td>116</td><td>Government of Iraq</td><td>234</td><td>234</td><td>IS</td><td>1</td><td>Kabul city</td><td>34.531094</td><td>69.162796</td><td>POINT (69.162796 34.531094)</td><td>179779</td><td>Afghanistan</td><td>700</td><td>Asia</td><td>1</td><td>1</td><td>00:00.0</td><td>00:00.0</td><td>0</td><td>4</td><td>0</td><td>2</td><td>6</td><td>6</td><td>6</td><td>645</td><td>null</td></tr><tr><td>412700</td><td>IRQ-2021-1-524-145</td><td>2021-01-01T00:00:00.000+0000</td><td>1</td><td>Clear</td><td>1</td><td>259</td><td>259</td><td>524</td><td>524</td><td>Government of Iraq - IS</td><td>116</td><td>116</td><td>Government of Iraq</td><td>234</td><td>234</td><td>IS</td><td>1</td><td>Kabul international airport</td><td>34.564444</td><td>69.217222</td><td>POINT (69.2172222 34.5644444)</td><td>179779</td><td>Afghanistan</td><td>700</td><td>Asia</td><td>1</td><td>1</td><td>00:00.0</td><td>00:00.0</td><td>13</td><td>1</td><td>141</td><td>28</td><td>183</td><td>184</td><td>171</td><td>645</td><td>null</td></tr><tr><td>413023</td><td>IRQ-2021-1-524-143</td><td>2021-01-01T00:00:00.000+0000</td><td>1</td><td>Clear</td><td>1</td><td>259</td><td>259</td><td>524</td><td>524</td><td>Government of Iraq - IS</td><td>116</td><td>116</td><td>Government of Iraq</td><td>234</td><td>234</td><td>IS</td><td>1</td><td>Jalalabad town</td><td>34.428844</td><td>70.45575</td><td>POINT (70.45575 34.428844)</td><td>179061</td><td>Afghanistan</td><td>700</td><td>Asia</td><td>1</td><td>1</td><td>00:00.0</td><td>00:00.0</td><td>0</td><td>2</td><td>0</td><td>0</td><td>2</td><td>3</td><td>0</td><td>645</td><td>null</td></tr><tr><td>412909</td><td>IRQ-2021-1-524-144</td><td>2021-01-01T00:00:00.000+0000</td><td>1</td><td>Clear</td><td>1</td><td>259</td><td>259</td><td>524</td><td>524</td><td>Government of Iraq - IS</td><td>116</td><td>116</td><td>Government of Iraq</td><td>234</td><td>234</td><td>IS</td><td>1</td><td>Kabul city</td><td>34.531094</td><td>69.162796</td><td>POINT (69.162796 34.531094)</td><td>179779</td><td>Afghanistan</td><td>700</td><td>Asia</td><td>1</td><td>1</td><td>00:00.0</td><td>00:00.0</td><td>0</td><td>0</td><td>10</td><td>0</td><td>10</td><td>10</td><td>9</td><td>645</td><td>null</td></tr><tr><td>132140</td><td>AFG-1989-1-411-2</td><td>1989-01-01T00:00:00.000+0000</td><td>1</td><td>Clear</td><td>1</td><td>333</td><td>333</td><td>724</td><td>724</td><td>Government of Afghanistan - Jam'iyyat-i Islami-yi Afghanistan</td><td>130</td><td>130</td><td>Government of Afghanistan</td><td>292</td><td>292</td><td>Jam'iyyat-i Islami-yi Afghanistan</td><td>4</td><td>Nangarhar province</td><td>34.33333</td><td>70.41667</td><td>POINT (70.41667 34.33333)</td><td>179061</td><td>Afghanistan</td><td>700</td><td>Asia</td><td>1</td><td>3</td><td>00:00.0</td><td>00:00.0</td><td>6</td><td>0</td><td>0</td><td>0</td><td>6</td><td>6</td><td>6</td><td>700</td><td>null</td></tr><tr><td>130364</td><td>AFG-1989-1-411-37</td><td>1989-01-01T00:00:00.000+0000</td><td>1</td><td>Clear</td><td>1</td><td>333</td><td>333</td><td>724</td><td>724</td><td>Government of Afghanistan - Jam'iyyat-i Islami-yi Afghanistan</td><td>130</td><td>130</td><td>Government of Afghanistan</td><td>292</td><td>292</td><td>Jam'iyyat-i Islami-yi Afghanistan</td><td>4</td><td>Kunduz province</td><td>36.75</td><td>68.75</td><td>POINT (68.75 36.75)</td><td>182658</td><td>Afghanistan</td><td>700</td><td>Asia</td><td>2</td><td>2</td><td>00:00.0</td><td>00:00.0</td><td>0</td><td>0</td><td>0</td><td>4</td><td>4</td><td>4</td><td>0</td><td>700</td><td>null</td></tr><tr><td>130359</td><td>AFG-1989-1-411-4</td><td>1989-01-01T00:00:00.000+0000</td><td>1</td><td>Clear</td><td>1</td><td>333</td><td>333</td><td>724</td><td>724</td><td>Government of Afghanistan - Jam'iyyat-i Islami-yi Afghanistan</td><td>130</td><td>130</td><td>Government of Afghanistan</td><td>292</td><td>292</td><td>Jam'iyyat-i Islami-yi Afghanistan</td><td>1</td><td>Salang pass</td><td>35.315833</td><td>69.038889</td><td>POINT (69.038889 35.315833)</td><td>180499</td><td>Afghanistan</td><td>700</td><td>Asia</td><td>1</td><td>2</td><td>00:00.0</td><td>00:00.0</td><td>0</td><td>0</td><td>0</td><td>600</td><td>600</td><td>600</td><td>600</td><td>700</td><td>null</td></tr><tr><td>133883</td><td>AFG-1989-1-411-39</td><td>1989-01-01T00:00:00.000+0000</td><td>1</td><td>Clear</td><td>1</td><td>333</td><td>333</td><td>724</td><td>724</td><td>Government of Afghanistan - Jam'iyyat-i Islami-yi Afghanistan</td><td>130</td><td>130</td><td>Government of Afghanistan</td><td>292</td><td>292</td><td>Jam'iyyat-i Islami-yi Afghanistan</td><td>1</td><td>Kabul city</td><td>34.531094</td><td>69.162796</td><td>POINT (69.162796 34.531094)</td><td>179779</td><td>Afghanistan</td><td>700</td><td>Asia</td><td>1</td><td>3</td><td>00:00.0</td><td>00:00.0</td><td>0</td><td>0</td><td>0</td><td>2</td><td>2</td><td>2</td><td>0</td><td>700</td><td>null</td></tr><tr><td>133874</td><td>AFG-1989-1-411-6</td><td>1989-01-01T00:00:00.000+0000</td><td>1</td><td>Clear</td><td>1</td><td>333</td><td>333</td><td>724</td><td>724</td><td>Government of Afghanistan - Jam'iyyat-i Islami-yi Afghanistan</td><td>130</td><td>130</td><td>Government of Afghanistan</td><td>292</td><td>292</td><td>Jam'iyyat-i Islami-yi Afghanistan</td><td>2</td><td>Salang tunnel</td><td>35.31603</td><td>69.03871</td><td>POINT (69.03871 35.31603)</td><td>180499</td><td>Afghanistan</td><td>700</td><td>Asia</td><td>1</td><td>1</td><td>00:00.0</td><td>00:00.0</td><td>0</td><td>0</td><td>0</td><td>70</td><td>70</td><td>70</td><td>70</td><td>700</td><td>null</td></tr><tr><td>133878</td><td>AFG-1989-1-411-38</td><td>1989-01-01T00:00:00.000+0000</td><td>1</td><td>Clear</td><td>1</td><td>333</td><td>333</td><td>724</td><td>724</td><td>Government of Afghanistan - Jam'iyyat-i Islami-yi Afghanistan</td><td>130</td><td>130</td><td>Government of Afghanistan</td><td>292</td><td>292</td><td>Jam'iyyat-i Islami-yi Afghanistan</td><td>4</td><td>Hirat province</td><td>34.5</td><td>62.0</td><td>POINT (62 34.5)</td><td>179765</td><td>Afghanistan</td><td>700</td><td>Asia</td><td>1</td><td>1</td><td>00:00.0</td><td>00:00.0</td><td>0</td><td>20</td><td>0</td><td>0</td><td>20</td><td>20</td><td>0</td><td>700</td><td>null</td></tr></tbody></table></div>"
      ]
     },
     "metadata": {
      "application/vnd.databricks.v1+output": {
       "addedWidgets": {},
       "aggData": [],
       "aggError": "",
       "aggOverflow": false,
       "aggSchema": [],
       "aggSeriesLimitReached": false,
       "aggType": "",
       "arguments": {},
       "columnCustomDisplayInfos": {},
       "data": [
        [
         244657,
         "IRQ-2017-1-524-322",
         "2017-01-01T00:00:00.000+0000",
         1,
         "Clear",
         1,
         259,
         259,
         524,
         524,
         "Government of Iraq - IS",
         116,
         116,
         "Government of Iraq",
         234,
         234,
         "IS",
         1,
         "Kabul city",
         34.531094,
         69.162796,
         "POINT (69.162796 34.531094)",
         179779,
         "Afghanistan",
         700,
         "Asia",
         1,
         1,
         "00:00.0",
         "00:00.0",
         0,
         4,
         0,
         2,
         6,
         6,
         6,
         "645",
         null
        ],
        [
         412700,
         "IRQ-2021-1-524-145",
         "2021-01-01T00:00:00.000+0000",
         1,
         "Clear",
         1,
         259,
         259,
         524,
         524,
         "Government of Iraq - IS",
         116,
         116,
         "Government of Iraq",
         234,
         234,
         "IS",
         1,
         "Kabul international airport",
         34.564444,
         69.217222,
         "POINT (69.2172222 34.5644444)",
         179779,
         "Afghanistan",
         700,
         "Asia",
         1,
         1,
         "00:00.0",
         "00:00.0",
         13,
         1,
         141,
         28,
         183,
         184,
         171,
         "645",
         null
        ],
        [
         413023,
         "IRQ-2021-1-524-143",
         "2021-01-01T00:00:00.000+0000",
         1,
         "Clear",
         1,
         259,
         259,
         524,
         524,
         "Government of Iraq - IS",
         116,
         116,
         "Government of Iraq",
         234,
         234,
         "IS",
         1,
         "Jalalabad town",
         34.428844,
         70.45575,
         "POINT (70.45575 34.428844)",
         179061,
         "Afghanistan",
         700,
         "Asia",
         1,
         1,
         "00:00.0",
         "00:00.0",
         0,
         2,
         0,
         0,
         2,
         3,
         0,
         "645",
         null
        ],
        [
         412909,
         "IRQ-2021-1-524-144",
         "2021-01-01T00:00:00.000+0000",
         1,
         "Clear",
         1,
         259,
         259,
         524,
         524,
         "Government of Iraq - IS",
         116,
         116,
         "Government of Iraq",
         234,
         234,
         "IS",
         1,
         "Kabul city",
         34.531094,
         69.162796,
         "POINT (69.162796 34.531094)",
         179779,
         "Afghanistan",
         700,
         "Asia",
         1,
         1,
         "00:00.0",
         "00:00.0",
         0,
         0,
         10,
         0,
         10,
         10,
         9,
         "645",
         null
        ],
        [
         132140,
         "AFG-1989-1-411-2",
         "1989-01-01T00:00:00.000+0000",
         1,
         "Clear",
         1,
         333,
         333,
         724,
         724,
         "Government of Afghanistan - Jam'iyyat-i Islami-yi Afghanistan",
         130,
         130,
         "Government of Afghanistan",
         292,
         292,
         "Jam'iyyat-i Islami-yi Afghanistan",
         4,
         "Nangarhar province",
         34.33333,
         70.41667,
         "POINT (70.41667 34.33333)",
         179061,
         "Afghanistan",
         700,
         "Asia",
         1,
         3,
         "00:00.0",
         "00:00.0",
         6,
         0,
         0,
         0,
         6,
         6,
         6,
         "700",
         null
        ],
        [
         130364,
         "AFG-1989-1-411-37",
         "1989-01-01T00:00:00.000+0000",
         1,
         "Clear",
         1,
         333,
         333,
         724,
         724,
         "Government of Afghanistan - Jam'iyyat-i Islami-yi Afghanistan",
         130,
         130,
         "Government of Afghanistan",
         292,
         292,
         "Jam'iyyat-i Islami-yi Afghanistan",
         4,
         "Kunduz province",
         36.75,
         68.75,
         "POINT (68.75 36.75)",
         182658,
         "Afghanistan",
         700,
         "Asia",
         2,
         2,
         "00:00.0",
         "00:00.0",
         0,
         0,
         0,
         4,
         4,
         4,
         0,
         "700",
         null
        ],
        [
         130359,
         "AFG-1989-1-411-4",
         "1989-01-01T00:00:00.000+0000",
         1,
         "Clear",
         1,
         333,
         333,
         724,
         724,
         "Government of Afghanistan - Jam'iyyat-i Islami-yi Afghanistan",
         130,
         130,
         "Government of Afghanistan",
         292,
         292,
         "Jam'iyyat-i Islami-yi Afghanistan",
         1,
         "Salang pass",
         35.315833,
         69.038889,
         "POINT (69.038889 35.315833)",
         180499,
         "Afghanistan",
         700,
         "Asia",
         1,
         2,
         "00:00.0",
         "00:00.0",
         0,
         0,
         0,
         600,
         600,
         600,
         600,
         "700",
         null
        ],
        [
         133883,
         "AFG-1989-1-411-39",
         "1989-01-01T00:00:00.000+0000",
         1,
         "Clear",
         1,
         333,
         333,
         724,
         724,
         "Government of Afghanistan - Jam'iyyat-i Islami-yi Afghanistan",
         130,
         130,
         "Government of Afghanistan",
         292,
         292,
         "Jam'iyyat-i Islami-yi Afghanistan",
         1,
         "Kabul city",
         34.531094,
         69.162796,
         "POINT (69.162796 34.531094)",
         179779,
         "Afghanistan",
         700,
         "Asia",
         1,
         3,
         "00:00.0",
         "00:00.0",
         0,
         0,
         0,
         2,
         2,
         2,
         0,
         "700",
         null
        ],
        [
         133874,
         "AFG-1989-1-411-6",
         "1989-01-01T00:00:00.000+0000",
         1,
         "Clear",
         1,
         333,
         333,
         724,
         724,
         "Government of Afghanistan - Jam'iyyat-i Islami-yi Afghanistan",
         130,
         130,
         "Government of Afghanistan",
         292,
         292,
         "Jam'iyyat-i Islami-yi Afghanistan",
         2,
         "Salang tunnel",
         35.31603,
         69.03871,
         "POINT (69.03871 35.31603)",
         180499,
         "Afghanistan",
         700,
         "Asia",
         1,
         1,
         "00:00.0",
         "00:00.0",
         0,
         0,
         0,
         70,
         70,
         70,
         70,
         "700",
         null
        ],
        [
         133878,
         "AFG-1989-1-411-38",
         "1989-01-01T00:00:00.000+0000",
         1,
         "Clear",
         1,
         333,
         333,
         724,
         724,
         "Government of Afghanistan - Jam'iyyat-i Islami-yi Afghanistan",
         130,
         130,
         "Government of Afghanistan",
         292,
         292,
         "Jam'iyyat-i Islami-yi Afghanistan",
         4,
         "Hirat province",
         34.5,
         62,
         "POINT (62 34.5)",
         179765,
         "Afghanistan",
         700,
         "Asia",
         1,
         1,
         "00:00.0",
         "00:00.0",
         0,
         20,
         0,
         0,
         20,
         20,
         0,
         "700",
         null
        ]
       ],
       "datasetInfos": [],
       "dbfsResultPath": null,
       "isJsonSchema": true,
       "metadata": {
        "isDbfsCommandResult": false
       },
       "overflow": false,
       "plotOptions": {
        "customPlotOptions": {},
        "displayType": "table",
        "pivotAggregation": null,
        "pivotColumns": null,
        "xColumns": null,
        "yColumns": null
       },
       "removedWidgets": [],
       "schema": [
        {
         "metadata": "{}",
         "name": "id",
         "type": "\"integer\""
        },
        {
         "metadata": "{}",
         "name": "relid",
         "type": "\"string\""
        },
        {
         "metadata": "{}",
         "name": "year",
         "type": "\"timestamp\""
        },
        {
         "metadata": "{}",
         "name": "active_year",
         "type": "\"integer\""
        },
        {
         "metadata": "{}",
         "name": "code_status",
         "type": "\"string\""
        },
        {
         "metadata": "{}",
         "name": "type_of_violence",
         "type": "\"integer\""
        },
        {
         "metadata": "{}",
         "name": "conflict_dset_id",
         "type": "\"integer\""
        },
        {
         "metadata": "{}",
         "name": "conflict_new_id",
         "type": "\"integer\""
        },
        {
         "metadata": "{}",
         "name": "dyad_dset_id",
         "type": "\"integer\""
        },
        {
         "metadata": "{}",
         "name": "dyad_new_id",
         "type": "\"integer\""
        },
        {
         "metadata": "{}",
         "name": "dyad_name",
         "type": "\"string\""
        },
        {
         "metadata": "{}",
         "name": "side_a_dset_id",
         "type": "\"integer\""
        },
        {
         "metadata": "{}",
         "name": "side_a_new_id",
         "type": "\"integer\""
        },
        {
         "metadata": "{}",
         "name": "side_a",
         "type": "\"string\""
        },
        {
         "metadata": "{}",
         "name": "side_b_dset_id",
         "type": "\"integer\""
        },
        {
         "metadata": "{}",
         "name": "side_b_new_id",
         "type": "\"integer\""
        },
        {
         "metadata": "{}",
         "name": "side_b",
         "type": "\"string\""
        },
        {
         "metadata": "{}",
         "name": "where_prec",
         "type": "\"integer\""
        },
        {
         "metadata": "{}",
         "name": "where_coordinates",
         "type": "\"string\""
        },
        {
         "metadata": "{}",
         "name": "latitude",
         "type": "\"double\""
        },
        {
         "metadata": "{}",
         "name": "longitude",
         "type": "\"double\""
        },
        {
         "metadata": "{}",
         "name": "geom_wkt",
         "type": "\"string\""
        },
        {
         "metadata": "{}",
         "name": "priogrid_gid",
         "type": "\"integer\""
        },
        {
         "metadata": "{}",
         "name": "country",
         "type": "\"string\""
        },
        {
         "metadata": "{}",
         "name": "country_id",
         "type": "\"integer\""
        },
        {
         "metadata": "{}",
         "name": "region",
         "type": "\"string\""
        },
        {
         "metadata": "{}",
         "name": "event_clarity",
         "type": "\"integer\""
        },
        {
         "metadata": "{}",
         "name": "date_prec",
         "type": "\"integer\""
        },
        {
         "metadata": "{}",
         "name": "date_start",
         "type": "\"string\""
        },
        {
         "metadata": "{}",
         "name": "date_end",
         "type": "\"string\""
        },
        {
         "metadata": "{}",
         "name": "deaths_a",
         "type": "\"integer\""
        },
        {
         "metadata": "{}",
         "name": "deaths_b",
         "type": "\"integer\""
        },
        {
         "metadata": "{}",
         "name": "deaths_civilians",
         "type": "\"integer\""
        },
        {
         "metadata": "{}",
         "name": "deaths_unknown",
         "type": "\"integer\""
        },
        {
         "metadata": "{}",
         "name": "best",
         "type": "\"integer\""
        },
        {
         "metadata": "{}",
         "name": "high",
         "type": "\"integer\""
        },
        {
         "metadata": "{}",
         "name": "low",
         "type": "\"integer\""
        },
        {
         "metadata": "{}",
         "name": "gwnoa",
         "type": "\"string\""
        },
        {
         "metadata": "{}",
         "name": "gwnob",
         "type": "\"integer\""
        }
       ],
       "type": "table"
      }
     },
     "output_type": "display_data"
    }
   ],
   "source": [
    "%sql\n",
    "SELECT * \n",
    "FROM global_conflicts\n",
    "LIMIT 10;"
   ]
  },
  {
   "cell_type": "markdown",
   "metadata": {
    "application/vnd.databricks.v1+cell": {
     "cellMetadata": {
      "byteLimit": 2048000,
      "rowLimit": 10000
     },
     "inputWidgets": {},
     "nuid": "adf8baf6-a683-443c-aa33-8a2a118b436c",
     "showTitle": false,
     "title": ""
    }
   },
   "source": [
    "**Determing the Total Entries**</p>\n",
    "This query determines the total number of entries in the the global_conflicts table giving us a total of 316,818 entries."
   ]
  },
  {
   "cell_type": "code",
   "execution_count": null,
   "metadata": {
    "application/vnd.databricks.v1+cell": {
     "cellMetadata": {
      "byteLimit": 2048000,
      "rowLimit": 10000
     },
     "inputWidgets": {},
     "nuid": "44008c71-f948-4456-9537-384923a5191a",
     "showTitle": false,
     "title": ""
    }
   },
   "outputs": [
    {
     "data": {
      "text/html": [
       "<style scoped>\n",
       "  .table-result-container {\n",
       "    max-height: 300px;\n",
       "    overflow: auto;\n",
       "  }\n",
       "  table, th, td {\n",
       "    border: 1px solid black;\n",
       "    border-collapse: collapse;\n",
       "  }\n",
       "  th, td {\n",
       "    padding: 5px;\n",
       "  }\n",
       "  th {\n",
       "    text-align: left;\n",
       "  }\n",
       "</style><div class='table-result-container'><table class='table-result'><thead style='background-color: white'><tr><th>total_entries</th></tr></thead><tbody><tr><td>316818</td></tr></tbody></table></div>"
      ]
     },
     "metadata": {
      "application/vnd.databricks.v1+output": {
       "addedWidgets": {},
       "aggData": [],
       "aggError": "",
       "aggOverflow": false,
       "aggSchema": [],
       "aggSeriesLimitReached": false,
       "aggType": "",
       "arguments": {},
       "columnCustomDisplayInfos": {},
       "data": [
        [
         316818
        ]
       ],
       "datasetInfos": [],
       "dbfsResultPath": null,
       "isJsonSchema": true,
       "metadata": {
        "isDbfsCommandResult": false
       },
       "overflow": false,
       "plotOptions": {
        "customPlotOptions": {},
        "displayType": "table",
        "pivotAggregation": null,
        "pivotColumns": null,
        "xColumns": null,
        "yColumns": null
       },
       "removedWidgets": [],
       "schema": [
        {
         "metadata": "{}",
         "name": "total_entries",
         "type": "\"long\""
        }
       ],
       "type": "table"
      }
     },
     "output_type": "display_data"
    }
   ],
   "source": [
    "%sql\n",
    "SELECT COUNT(*) AS total_entries\n",
    "FROM global_conflicts;"
   ]
  },
  {
   "cell_type": "markdown",
   "metadata": {
    "application/vnd.databricks.v1+cell": {
     "cellMetadata": {
      "byteLimit": 2048000,
      "rowLimit": 10000
     },
     "inputWidgets": {},
     "nuid": "79ceba8b-12da-400d-93ad-a62d5350a9b1",
     "showTitle": false,
     "title": ""
    }
   },
   "source": [
    "**Check for Non-null Values**</p>Here, we check for the validity of entries with non-null values in key fields. This ensures the quality of data used for analysis"
   ]
  },
  {
   "cell_type": "code",
   "execution_count": null,
   "metadata": {
    "application/vnd.databricks.v1+cell": {
     "cellMetadata": {
      "byteLimit": 2048000,
      "rowLimit": 10000
     },
     "inputWidgets": {},
     "nuid": "db225a8b-068f-4828-9a00-0e6979d379a0",
     "showTitle": false,
     "title": ""
    }
   },
   "outputs": [
    {
     "data": {
      "text/html": [
       "<style scoped>\n",
       "  .table-result-container {\n",
       "    max-height: 300px;\n",
       "    overflow: auto;\n",
       "  }\n",
       "  table, th, td {\n",
       "    border: 1px solid black;\n",
       "    border-collapse: collapse;\n",
       "  }\n",
       "  th, td {\n",
       "    padding: 5px;\n",
       "  }\n",
       "  th {\n",
       "    text-align: left;\n",
       "  }\n",
       "</style><div class='table-result-container'><table class='table-result'><thead style='background-color: white'><tr><th>valid_entries</th></tr></thead><tbody><tr><td>316818</td></tr></tbody></table></div>"
      ]
     },
     "metadata": {
      "application/vnd.databricks.v1+output": {
       "addedWidgets": {},
       "aggData": [],
       "aggError": "",
       "aggOverflow": false,
       "aggSchema": [],
       "aggSeriesLimitReached": false,
       "aggType": "",
       "arguments": {},
       "columnCustomDisplayInfos": {},
       "data": [
        [
         316818
        ]
       ],
       "datasetInfos": [],
       "dbfsResultPath": null,
       "isJsonSchema": true,
       "metadata": {
        "isDbfsCommandResult": false
       },
       "overflow": false,
       "plotOptions": {
        "customPlotOptions": {},
        "displayType": "table",
        "pivotAggregation": null,
        "pivotColumns": null,
        "xColumns": null,
        "yColumns": null
       },
       "removedWidgets": [],
       "schema": [
        {
         "metadata": "{}",
         "name": "valid_entries",
         "type": "\"long\""
        }
       ],
       "type": "table"
      }
     },
     "output_type": "display_data"
    }
   ],
   "source": [
    "%sql\n",
    "-- Check values of no null values\n",
    "SELECT COUNT(*) AS valid_entries\n",
    "FROM \n",
    "    (SELECT \n",
    "        id,\n",
    "        year,\n",
    "        active_year,\n",
    "        type_of_violence,\n",
    "        side_a,\n",
    "        side_b,\n",
    "        where_coordinates,\n",
    "        country,\n",
    "        region,\n",
    "        deaths_a,\n",
    "        deaths_b,\n",
    "        deaths_civilians,\n",
    "        best AS total_deaths\n",
    "    FROM global_conflicts\n",
    "    WHERE \n",
    "        id IS NOT NULL\n",
    "    OR    year IS NOT NULL\n",
    "    OR    active_year IS NOT NULL\n",
    "    OR    type_of_violence IS NOT NULL\n",
    "    OR    side_a IS NOT NULL\n",
    "    OR    side_b IS NOT NULL\n",
    "    OR    where_coordinates IS NOT NULL\n",
    "    OR    country IS NOT NULL\n",
    "    OR    region IS NOT NULL\n",
    "    OR    deaths_a IS NOT NULL\n",
    "    OR    deaths_b IS NOT NULL\n",
    "    OR    deaths_civilians IS NOT NULL\n",
    "    OR    best IS NOT NULL) AS check_null;\n"
   ]
  },
  {
   "cell_type": "markdown",
   "metadata": {
    "application/vnd.databricks.v1+cell": {
     "cellMetadata": {
      "byteLimit": 2048000,
      "rowLimit": 10000
     },
     "inputWidgets": {},
     "nuid": "9b276cb9-5499-4493-b9f5-bdbf564b5c58",
     "showTitle": false,
     "title": ""
    }
   },
   "source": [
    "**Check for Duplicates**</p>This next query checks for duplicate entries in the dataset, but there were no duplicate records found."
   ]
  },
  {
   "cell_type": "code",
   "execution_count": null,
   "metadata": {
    "application/vnd.databricks.v1+cell": {
     "cellMetadata": {
      "byteLimit": 2048000,
      "rowLimit": 10000
     },
     "inputWidgets": {},
     "nuid": "a6d1f8fb-7584-4f68-a545-8c546021afd0",
     "showTitle": false,
     "title": ""
    }
   },
   "outputs": [
    {
     "data": {
      "text/html": [
       "<style scoped>\n",
       "  .table-result-container {\n",
       "    max-height: 300px;\n",
       "    overflow: auto;\n",
       "  }\n",
       "  table, th, td {\n",
       "    border: 1px solid black;\n",
       "    border-collapse: collapse;\n",
       "  }\n",
       "  th, td {\n",
       "    padding: 5px;\n",
       "  }\n",
       "  th {\n",
       "    text-align: left;\n",
       "  }\n",
       "</style><div class='table-result-container'><table class='table-result'><thead style='background-color: white'><tr><th>id</th><th>occurences</th></tr></thead><tbody></tbody></table></div>"
      ]
     },
     "metadata": {
      "application/vnd.databricks.v1+output": {
       "addedWidgets": {},
       "aggData": [],
       "aggError": "",
       "aggOverflow": false,
       "aggSchema": [],
       "aggSeriesLimitReached": false,
       "aggType": "",
       "arguments": {},
       "columnCustomDisplayInfos": {},
       "data": [],
       "datasetInfos": [],
       "dbfsResultPath": null,
       "isJsonSchema": true,
       "metadata": {
        "isDbfsCommandResult": false
       },
       "overflow": false,
       "plotOptions": {
        "customPlotOptions": {},
        "displayType": "table",
        "pivotAggregation": null,
        "pivotColumns": null,
        "xColumns": null,
        "yColumns": null
       },
       "removedWidgets": [],
       "schema": [
        {
         "metadata": "{}",
         "name": "id",
         "type": "\"integer\""
        },
        {
         "metadata": "{}",
         "name": "occurences",
         "type": "\"long\""
        }
       ],
       "type": "table"
      }
     },
     "output_type": "display_data"
    }
   ],
   "source": [
    "%sql\n",
    "SELECT \n",
    "  id,\n",
    "  count(*) AS occurences\n",
    "FROM global_conflicts\n",
    "GROUP BY id\n",
    "HAVING occurences >1;"
   ]
  },
  {
   "cell_type": "markdown",
   "metadata": {
    "application/vnd.databricks.v1+cell": {
     "cellMetadata": {
      "byteLimit": 2048000,
      "rowLimit": 10000
     },
     "inputWidgets": {},
     "nuid": "69e20c42-3312-42ae-90ac-f86cde300c8a",
     "showTitle": false,
     "title": ""
    }
   },
   "source": [
    "**Change of Casualties throughout the Years**</p>The following query calculates the change in casualties over the years. It provides information on casualties in consecutive years, the change between years, and the percentage change, allowing us to identify trends and shifts in conflict dynamics."
   ]
  },
  {
   "cell_type": "code",
   "execution_count": null,
   "metadata": {
    "application/vnd.databricks.v1+cell": {
     "cellMetadata": {
      "byteLimit": 2048000,
      "rowLimit": 10000
     },
     "inputWidgets": {},
     "nuid": "7abd551f-9d0d-47f3-91a3-cd260d3e011b",
     "showTitle": false,
     "title": ""
    }
   },
   "outputs": [
    {
     "data": {
      "text/html": [
       "<style scoped>\n",
       "  .table-result-container {\n",
       "    max-height: 300px;\n",
       "    overflow: auto;\n",
       "  }\n",
       "  table, th, td {\n",
       "    border: 1px solid black;\n",
       "    border-collapse: collapse;\n",
       "  }\n",
       "  th, td {\n",
       "    padding: 5px;\n",
       "  }\n",
       "  th {\n",
       "    text-align: left;\n",
       "  }\n",
       "</style><div class='table-result-container'><table class='table-result'><thead style='background-color: white'><tr><th>current_year</th><th>current_year_casualties</th><th>previous_year</th><th>previous_year_casualties</th><th>casualties_change</th><th>percent_change</th></tr></thead><tbody><tr><td>2022</td><td>237912</td><td>2021</td><td>121257</td><td>116655</td><td>96.20475518939114</td></tr><tr><td>2021</td><td>121257</td><td>2020</td><td>87310</td><td>33947</td><td>38.880998740121406</td></tr><tr><td>2020</td><td>87310</td><td>2019</td><td>79425</td><td>7885</td><td>9.927604658482846</td></tr><tr><td>2019</td><td>79425</td><td>2018</td><td>86172</td><td>-6747</td><td>-7.829689458292717</td></tr><tr><td>2018</td><td>86172</td><td>2017</td><td>104676</td><td>-18504</td><td>-17.677404562650466</td></tr><tr><td>2017</td><td>104676</td><td>2016</td><td>112621</td><td>-7945</td><td>-7.054634570817166</td></tr><tr><td>2016</td><td>112621</td><td>2015</td><td>128126</td><td>-15505</td><td>-12.101368964925152</td></tr><tr><td>2015</td><td>128126</td><td>2014</td><td>149623</td><td>-21497</td><td>-14.367443508016816</td></tr><tr><td>2014</td><td>149623</td><td>2013</td><td>111345</td><td>38278</td><td>34.37783465804481</td></tr><tr><td>2013</td><td>111345</td><td>2012</td><td>86388</td><td>24957</td><td>28.889429087373248</td></tr><tr><td>2012</td><td>86388</td><td>2011</td><td>39261</td><td>47127</td><td>120.03514938488577</td></tr><tr><td>2011</td><td>39261</td><td>2010</td><td>31552</td><td>7709</td><td>24.432682555780932</td></tr><tr><td>2010</td><td>31552</td><td>2009</td><td>48265</td><td>-16713</td><td>-34.62757691909251</td></tr><tr><td>2009</td><td>48265</td><td>2008</td><td>37987</td><td>10278</td><td>27.056624634743464</td></tr><tr><td>2008</td><td>37987</td><td>2007</td><td>28711</td><td>9276</td><td>32.30817456723904</td></tr><tr><td>2007</td><td>28711</td><td>2006</td><td>27634</td><td>1077</td><td>3.8973728016211915</td></tr><tr><td>2006</td><td>27634</td><td>2005</td><td>19734</td><td>7900</td><td>40.03243133677916</td></tr><tr><td>2005</td><td>19734</td><td>2004</td><td>35058</td><td>-15324</td><td>-43.71042272805066</td></tr><tr><td>2004</td><td>35058</td><td>2003</td><td>38652</td><td>-3594</td><td>-9.298354548276933</td></tr><tr><td>2003</td><td>38652</td><td>2002</td><td>41361</td><td>-2709</td><td>-6.549648219337056</td></tr><tr><td>2002</td><td>41361</td><td>2001</td><td>37588</td><td>3773</td><td>10.03777801425987</td></tr><tr><td>2001</td><td>37588</td><td>2000</td><td>93719</td><td>-56131</td><td>-59.89287124275761</td></tr><tr><td>2000</td><td>93719</td><td>1999</td><td>99164</td><td>-5445</td><td>-5.490903957081199</td></tr><tr><td>1999</td><td>99164</td><td>1998</td><td>61064</td><td>38100</td><td>62.393554303681384</td></tr><tr><td>1998</td><td>61064</td><td>1997</td><td>64482</td><td>-3418</td><td>-5.300704072454328</td></tr><tr><td>1997</td><td>64482</td><td>1996</td><td>71957</td><td>-7475</td><td>-10.38814847756299</td></tr><tr><td>1996</td><td>71957</td><td>1995</td><td>61132</td><td>10825</td><td>17.707583589609367</td></tr><tr><td>1995</td><td>61132</td><td>1994</td><td>823583</td><td>-762451</td><td>-92.57731157636813</td></tr><tr><td>1994</td><td>823583</td><td>1993</td><td>68074</td><td>755509</td><td>1109.834885565708</td></tr><tr><td>1993</td><td>68074</td><td>1992</td><td>76082</td><td>-8008</td><td>-10.525485660208723</td></tr><tr><td>1992</td><td>76082</td><td>1991</td><td>84382</td><td>-8300</td><td>-9.836220994998932</td></tr><tr><td>1991</td><td>84382</td><td>1990</td><td>95677</td><td>-11295</td><td>-11.805345067257543</td></tr><tr><td>1990</td><td>95677</td><td>1989</td><td>67372</td><td>28305</td><td>42.013002434245685</td></tr></tbody></table></div>"
      ]
     },
     "metadata": {
      "application/vnd.databricks.v1+output": {
       "addedWidgets": {},
       "aggData": [],
       "aggError": "",
       "aggOverflow": false,
       "aggSchema": [],
       "aggSeriesLimitReached": false,
       "aggType": "",
       "arguments": {},
       "columnCustomDisplayInfos": {},
       "data": [
        [
         2022,
         237912,
         2021,
         121257,
         116655,
         96.20475518939114
        ],
        [
         2021,
         121257,
         2020,
         87310,
         33947,
         38.880998740121406
        ],
        [
         2020,
         87310,
         2019,
         79425,
         7885,
         9.927604658482846
        ],
        [
         2019,
         79425,
         2018,
         86172,
         -6747,
         -7.829689458292717
        ],
        [
         2018,
         86172,
         2017,
         104676,
         -18504,
         -17.677404562650466
        ],
        [
         2017,
         104676,
         2016,
         112621,
         -7945,
         -7.054634570817166
        ],
        [
         2016,
         112621,
         2015,
         128126,
         -15505,
         -12.101368964925152
        ],
        [
         2015,
         128126,
         2014,
         149623,
         -21497,
         -14.367443508016816
        ],
        [
         2014,
         149623,
         2013,
         111345,
         38278,
         34.37783465804481
        ],
        [
         2013,
         111345,
         2012,
         86388,
         24957,
         28.889429087373248
        ],
        [
         2012,
         86388,
         2011,
         39261,
         47127,
         120.03514938488577
        ],
        [
         2011,
         39261,
         2010,
         31552,
         7709,
         24.432682555780932
        ],
        [
         2010,
         31552,
         2009,
         48265,
         -16713,
         -34.62757691909251
        ],
        [
         2009,
         48265,
         2008,
         37987,
         10278,
         27.056624634743464
        ],
        [
         2008,
         37987,
         2007,
         28711,
         9276,
         32.30817456723904
        ],
        [
         2007,
         28711,
         2006,
         27634,
         1077,
         3.8973728016211915
        ],
        [
         2006,
         27634,
         2005,
         19734,
         7900,
         40.03243133677916
        ],
        [
         2005,
         19734,
         2004,
         35058,
         -15324,
         -43.71042272805066
        ],
        [
         2004,
         35058,
         2003,
         38652,
         -3594,
         -9.298354548276933
        ],
        [
         2003,
         38652,
         2002,
         41361,
         -2709,
         -6.549648219337056
        ],
        [
         2002,
         41361,
         2001,
         37588,
         3773,
         10.03777801425987
        ],
        [
         2001,
         37588,
         2000,
         93719,
         -56131,
         -59.89287124275761
        ],
        [
         2000,
         93719,
         1999,
         99164,
         -5445,
         -5.490903957081199
        ],
        [
         1999,
         99164,
         1998,
         61064,
         38100,
         62.393554303681384
        ],
        [
         1998,
         61064,
         1997,
         64482,
         -3418,
         -5.300704072454328
        ],
        [
         1997,
         64482,
         1996,
         71957,
         -7475,
         -10.38814847756299
        ],
        [
         1996,
         71957,
         1995,
         61132,
         10825,
         17.707583589609367
        ],
        [
         1995,
         61132,
         1994,
         823583,
         -762451,
         -92.57731157636813
        ],
        [
         1994,
         823583,
         1993,
         68074,
         755509,
         1109.834885565708
        ],
        [
         1993,
         68074,
         1992,
         76082,
         -8008,
         -10.525485660208723
        ],
        [
         1992,
         76082,
         1991,
         84382,
         -8300,
         -9.836220994998932
        ],
        [
         1991,
         84382,
         1990,
         95677,
         -11295,
         -11.805345067257543
        ],
        [
         1990,
         95677,
         1989,
         67372,
         28305,
         42.013002434245685
        ]
       ],
       "datasetInfos": [],
       "dbfsResultPath": null,
       "isJsonSchema": true,
       "metadata": {
        "isDbfsCommandResult": false
       },
       "overflow": false,
       "plotOptions": {
        "customPlotOptions": {},
        "displayType": "table",
        "pivotAggregation": null,
        "pivotColumns": null,
        "xColumns": null,
        "yColumns": null
       },
       "removedWidgets": [],
       "schema": [
        {
         "metadata": "{}",
         "name": "current_year",
         "type": "\"integer\""
        },
        {
         "metadata": "{}",
         "name": "current_year_casualties",
         "type": "\"long\""
        },
        {
         "metadata": "{}",
         "name": "previous_year",
         "type": "\"integer\""
        },
        {
         "metadata": "{}",
         "name": "previous_year_casualties",
         "type": "\"long\""
        },
        {
         "metadata": "{}",
         "name": "casualties_change",
         "type": "\"long\""
        },
        {
         "metadata": "{}",
         "name": "percent_change",
         "type": "\"double\""
        }
       ],
       "type": "table"
      }
     },
     "output_type": "display_data"
    }
   ],
   "source": [
    "%sql\n",
    "SELECT\n",
    "    current_year.year AS current_year,\n",
    "    current_year.casualties_count AS current_year_casualties,\n",
    "    previous_year.year AS previous_year,\n",
    "    previous_year.casualties_count AS previous_year_casualties,\n",
    "    current_year.casualties_count - previous_year.casualties_count AS casualties_change,\n",
    "    ((current_year.casualties_count- previous_year.casualties_count) / previous_year.casualties_count) * 100 AS percent_change\n",
    "FROM\n",
    "(\n",
    "    SELECT\n",
    "        YEAR(year) AS year,\n",
    "        SUM(best) AS casualties_count\n",
    "    FROM\n",
    "        global_conflicts\n",
    "    GROUP BY\n",
    "        YEAR(year)\n",
    ") AS current_year\n",
    "JOIN\n",
    "(\n",
    "    SELECT\n",
    "        YEAR(year) AS year,\n",
    "        SUM(best) AS casualties_count\n",
    "    FROM\n",
    "        global_conflicts\n",
    "    GROUP BY\n",
    "        YEAR(year)\n",
    ") AS previous_year\n",
    "ON\n",
    "    current_year.year = previous_year.year + 1\n",
    "ORDER BY current_year DESC;\n"
   ]
  },
  {
   "cell_type": "markdown",
   "metadata": {
    "application/vnd.databricks.v1+cell": {
     "cellMetadata": {
      "byteLimit": 2048000,
      "rowLimit": 10000
     },
     "inputWidgets": {},
     "nuid": "cc3f274e-f0fa-4cb6-857d-d0ddc2a23ed8",
     "showTitle": false,
     "title": ""
    }
   },
   "source": [
    "**Number of Conflict Incidents throughout the Years**</p>This query calculates the change in conflict incidents throughout the years. Similar to the previous query, it offers insights into shifts in conflict occurrence trends."
   ]
  },
  {
   "cell_type": "code",
   "execution_count": null,
   "metadata": {
    "application/vnd.databricks.v1+cell": {
     "cellMetadata": {
      "byteLimit": 2048000,
      "rowLimit": 10000
     },
     "inputWidgets": {},
     "nuid": "a31739a0-90a0-49f8-848f-d51603a64ef6",
     "showTitle": false,
     "title": ""
    }
   },
   "outputs": [
    {
     "data": {
      "text/html": [
       "<style scoped>\n",
       "  .table-result-container {\n",
       "    max-height: 300px;\n",
       "    overflow: auto;\n",
       "  }\n",
       "  table, th, td {\n",
       "    border: 1px solid black;\n",
       "    border-collapse: collapse;\n",
       "  }\n",
       "  th, td {\n",
       "    padding: 5px;\n",
       "  }\n",
       "  th {\n",
       "    text-align: left;\n",
       "  }\n",
       "</style><div class='table-result-container'><table class='table-result'><thead style='background-color: white'><tr><th>current_year</th><th>current_year_incidents</th><th>previous_year</th><th>previous_year_incidents</th><th>incidents_change</th><th>percent_change</th></tr></thead><tbody><tr><td>2022</td><td>17545</td><td>2021</td><td>16812</td><td>733</td><td>4.359980965976684</td></tr><tr><td>2021</td><td>16812</td><td>2020</td><td>13223</td><td>3589</td><td>27.1421008848219</td></tr><tr><td>2020</td><td>13223</td><td>2019</td><td>13628</td><td>-405</td><td>-2.971822717933666</td></tr><tr><td>2019</td><td>13628</td><td>2018</td><td>13095</td><td>533</td><td>4.0702558228331425</td></tr><tr><td>2018</td><td>13095</td><td>2017</td><td>15868</td><td>-2773</td><td>-17.475422233425764</td></tr><tr><td>2017</td><td>15868</td><td>2016</td><td>16839</td><td>-971</td><td>-5.766375675515173</td></tr><tr><td>2016</td><td>16839</td><td>2015</td><td>19634</td><td>-2795</td><td>-14.235509829886931</td></tr><tr><td>2015</td><td>19634</td><td>2014</td><td>25918</td><td>-6284</td><td>-24.245697970522418</td></tr><tr><td>2014</td><td>25918</td><td>2013</td><td>24495</td><td>1423</td><td>5.809348846703409</td></tr><tr><td>2013</td><td>24495</td><td>2012</td><td>18463</td><td>6032</td><td>32.67074689920381</td></tr><tr><td>2012</td><td>18463</td><td>2011</td><td>7657</td><td>10806</td><td>141.12576727177745</td></tr><tr><td>2011</td><td>7657</td><td>2010</td><td>6243</td><td>1414</td><td>22.649367291366328</td></tr><tr><td>2010</td><td>6243</td><td>2009</td><td>7064</td><td>-821</td><td>-11.622310305775764</td></tr><tr><td>2009</td><td>7064</td><td>2008</td><td>6282</td><td>782</td><td>12.44826488379497</td></tr><tr><td>2008</td><td>6282</td><td>2007</td><td>6698</td><td>-416</td><td>-6.210809196775157</td></tr><tr><td>2007</td><td>6698</td><td>2006</td><td>5253</td><td>1445</td><td>27.508090614886733</td></tr><tr><td>2006</td><td>5253</td><td>2005</td><td>5336</td><td>-83</td><td>-1.555472263868066</td></tr><tr><td>2005</td><td>5336</td><td>2004</td><td>6378</td><td>-1042</td><td>-16.337409846346816</td></tr><tr><td>2004</td><td>6378</td><td>2003</td><td>4931</td><td>1447</td><td>29.344960454268907</td></tr><tr><td>2003</td><td>4931</td><td>2002</td><td>7339</td><td>-2408</td><td>-32.81100967434256</td></tr><tr><td>2002</td><td>7339</td><td>2001</td><td>4209</td><td>3130</td><td>74.36445711570444</td></tr><tr><td>2001</td><td>4209</td><td>2000</td><td>5605</td><td>-1396</td><td>-24.906333630686888</td></tr><tr><td>2000</td><td>5605</td><td>1999</td><td>4096</td><td>1509</td><td>36.8408203125</td></tr><tr><td>1999</td><td>4096</td><td>1998</td><td>3730</td><td>366</td><td>9.812332439678285</td></tr><tr><td>1998</td><td>3730</td><td>1997</td><td>2868</td><td>862</td><td>30.055788005578798</td></tr><tr><td>1997</td><td>2868</td><td>1996</td><td>3166</td><td>-298</td><td>-9.41250789639924</td></tr><tr><td>1996</td><td>3166</td><td>1995</td><td>4365</td><td>-1199</td><td>-27.468499427262316</td></tr><tr><td>1995</td><td>4365</td><td>1994</td><td>7523</td><td>-3158</td><td>-41.9779343347069</td></tr><tr><td>1994</td><td>7523</td><td>1993</td><td>6548</td><td>975</td><td>14.890042761148441</td></tr><tr><td>1993</td><td>6548</td><td>1992</td><td>7325</td><td>-777</td><td>-10.607508532423209</td></tr><tr><td>1992</td><td>7325</td><td>1991</td><td>2863</td><td>4462</td><td>155.8505064617534</td></tr><tr><td>1991</td><td>2863</td><td>1990</td><td>3202</td><td>-339</td><td>-10.587133041848844</td></tr><tr><td>1990</td><td>3202</td><td>1989</td><td>2617</td><td>585</td><td>22.35384027512419</td></tr></tbody></table></div>"
      ]
     },
     "metadata": {
      "application/vnd.databricks.v1+output": {
       "addedWidgets": {},
       "aggData": [],
       "aggError": "",
       "aggOverflow": false,
       "aggSchema": [],
       "aggSeriesLimitReached": false,
       "aggType": "",
       "arguments": {},
       "columnCustomDisplayInfos": {},
       "data": [
        [
         2022,
         17545,
         2021,
         16812,
         733,
         4.359980965976684
        ],
        [
         2021,
         16812,
         2020,
         13223,
         3589,
         27.1421008848219
        ],
        [
         2020,
         13223,
         2019,
         13628,
         -405,
         -2.971822717933666
        ],
        [
         2019,
         13628,
         2018,
         13095,
         533,
         4.0702558228331425
        ],
        [
         2018,
         13095,
         2017,
         15868,
         -2773,
         -17.475422233425764
        ],
        [
         2017,
         15868,
         2016,
         16839,
         -971,
         -5.766375675515173
        ],
        [
         2016,
         16839,
         2015,
         19634,
         -2795,
         -14.235509829886931
        ],
        [
         2015,
         19634,
         2014,
         25918,
         -6284,
         -24.245697970522418
        ],
        [
         2014,
         25918,
         2013,
         24495,
         1423,
         5.809348846703409
        ],
        [
         2013,
         24495,
         2012,
         18463,
         6032,
         32.67074689920381
        ],
        [
         2012,
         18463,
         2011,
         7657,
         10806,
         141.12576727177745
        ],
        [
         2011,
         7657,
         2010,
         6243,
         1414,
         22.649367291366328
        ],
        [
         2010,
         6243,
         2009,
         7064,
         -821,
         -11.622310305775764
        ],
        [
         2009,
         7064,
         2008,
         6282,
         782,
         12.44826488379497
        ],
        [
         2008,
         6282,
         2007,
         6698,
         -416,
         -6.210809196775157
        ],
        [
         2007,
         6698,
         2006,
         5253,
         1445,
         27.508090614886733
        ],
        [
         2006,
         5253,
         2005,
         5336,
         -83,
         -1.555472263868066
        ],
        [
         2005,
         5336,
         2004,
         6378,
         -1042,
         -16.337409846346816
        ],
        [
         2004,
         6378,
         2003,
         4931,
         1447,
         29.344960454268907
        ],
        [
         2003,
         4931,
         2002,
         7339,
         -2408,
         -32.81100967434256
        ],
        [
         2002,
         7339,
         2001,
         4209,
         3130,
         74.36445711570444
        ],
        [
         2001,
         4209,
         2000,
         5605,
         -1396,
         -24.906333630686888
        ],
        [
         2000,
         5605,
         1999,
         4096,
         1509,
         36.8408203125
        ],
        [
         1999,
         4096,
         1998,
         3730,
         366,
         9.812332439678285
        ],
        [
         1998,
         3730,
         1997,
         2868,
         862,
         30.055788005578798
        ],
        [
         1997,
         2868,
         1996,
         3166,
         -298,
         -9.41250789639924
        ],
        [
         1996,
         3166,
         1995,
         4365,
         -1199,
         -27.468499427262316
        ],
        [
         1995,
         4365,
         1994,
         7523,
         -3158,
         -41.9779343347069
        ],
        [
         1994,
         7523,
         1993,
         6548,
         975,
         14.890042761148441
        ],
        [
         1993,
         6548,
         1992,
         7325,
         -777,
         -10.607508532423209
        ],
        [
         1992,
         7325,
         1991,
         2863,
         4462,
         155.8505064617534
        ],
        [
         1991,
         2863,
         1990,
         3202,
         -339,
         -10.587133041848844
        ],
        [
         1990,
         3202,
         1989,
         2617,
         585,
         22.35384027512419
        ]
       ],
       "datasetInfos": [],
       "dbfsResultPath": null,
       "isJsonSchema": true,
       "metadata": {
        "isDbfsCommandResult": false
       },
       "overflow": false,
       "plotOptions": {
        "customPlotOptions": {},
        "displayType": "table",
        "pivotAggregation": null,
        "pivotColumns": null,
        "xColumns": null,
        "yColumns": null
       },
       "removedWidgets": [],
       "schema": [
        {
         "metadata": "{}",
         "name": "current_year",
         "type": "\"integer\""
        },
        {
         "metadata": "{}",
         "name": "current_year_incidents",
         "type": "\"long\""
        },
        {
         "metadata": "{}",
         "name": "previous_year",
         "type": "\"integer\""
        },
        {
         "metadata": "{}",
         "name": "previous_year_incidents",
         "type": "\"long\""
        },
        {
         "metadata": "{}",
         "name": "incidents_change",
         "type": "\"long\""
        },
        {
         "metadata": "{}",
         "name": "percent_change",
         "type": "\"double\""
        }
       ],
       "type": "table"
      }
     },
     "output_type": "display_data"
    }
   ],
   "source": [
    "%sql\n",
    "SELECT\n",
    "    current_year.year AS current_year,\n",
    "    current_year.conflict_incidents AS current_year_incidents,\n",
    "    previous_year.year AS previous_year,\n",
    "    previous_year.conflict_incidents AS previous_year_incidents,\n",
    "    current_year.conflict_incidents - previous_year.conflict_incidents AS incidents_change,\n",
    "    ((current_year.conflict_incidents- previous_year.conflict_incidents) / previous_year.conflict_incidents) * 100 AS percent_change\n",
    "FROM\n",
    "(\n",
    "    SELECT\n",
    "        YEAR(year) AS year,\n",
    "        COUNT(*) AS conflict_incidents\n",
    "    FROM\n",
    "        global_conflicts\n",
    "    GROUP BY\n",
    "        YEAR(year)\n",
    ") AS current_year \n",
    "JOIN\n",
    "(\n",
    "    SELECT\n",
    "        YEAR(year) AS year,\n",
    "        COUNT(*) AS conflict_incidents\n",
    "    FROM\n",
    "        global_conflicts\n",
    "    GROUP BY\n",
    "        YEAR(year)\n",
    ") AS previous_year \n",
    "ON\n",
    "    current_year.year = previous_year.year + 1\n",
    "ORDER BY current_year DESC;"
   ]
  },
  {
   "cell_type": "markdown",
   "metadata": {
    "application/vnd.databricks.v1+cell": {
     "cellMetadata": {
      "byteLimit": 2048000,
      "rowLimit": 10000
     },
     "inputWidgets": {},
     "nuid": "def52ba2-e1b6-4095-b9b7-73dbd5e10dcc",
     "showTitle": false,
     "title": ""
    }
   },
   "source": [
    "**Analysis by Type of Violence**</p> This query groups conflicts by their type of violence, providing insights into the distribution of conflict incidents and casualties across different  regions.</p>\n",
    "*Note*:\n",
    "Type of Violence/Conflict\n",
    "1: state-based conflict\n",
    "2: non-state conflict\n",
    "3: one-sided violence"
   ]
  },
  {
   "cell_type": "code",
   "execution_count": null,
   "metadata": {
    "application/vnd.databricks.v1+cell": {
     "cellMetadata": {
      "byteLimit": 2048000,
      "rowLimit": 10000
     },
     "inputWidgets": {},
     "nuid": "98142fe8-6063-43a8-b398-8d2bcf8fd164",
     "showTitle": false,
     "title": ""
    }
   },
   "outputs": [
    {
     "data": {
      "text/html": [
       "<style scoped>\n",
       "  .table-result-container {\n",
       "    max-height: 300px;\n",
       "    overflow: auto;\n",
       "  }\n",
       "  table, th, td {\n",
       "    border: 1px solid black;\n",
       "    border-collapse: collapse;\n",
       "  }\n",
       "  th, td {\n",
       "    padding: 5px;\n",
       "  }\n",
       "  th {\n",
       "    text-align: left;\n",
       "  }\n",
       "</style><div class='table-result-container'><table class='table-result'><thead style='background-color: white'><tr><th>type_of_violence</th><th>region</th><th>conflict_incidents</th><th>casualties</th><th>AVG_casualties</th></tr></thead><tbody><tr><td>1</td><td>Middle East</td><td>94378</td><td>552542</td><td>5.854563563542351</td></tr><tr><td>1</td><td>Asia</td><td>75676</td><td>504511</td><td>6.666723928326022</td></tr><tr><td>1</td><td>Africa</td><td>28445</td><td>614883</td><td>21.61655827034628</td></tr><tr><td>1</td><td>Europe</td><td>22597</td><td>187117</td><td>8.280612470681948</td></tr><tr><td>3</td><td>Africa</td><td>20284</td><td>1000012</td><td>49.30053243936107</td></tr><tr><td>2</td><td>Americas</td><td>17856</td><td>112786</td><td>6.316420250896058</td></tr><tr><td>3</td><td>Asia</td><td>14290</td><td>53428</td><td>3.7388383484954515</td></tr><tr><td>2</td><td>Middle East</td><td>10911</td><td>61351</td><td>5.622857666575016</td></tr><tr><td>2</td><td>Africa</td><td>9364</td><td>126003</td><td>13.456108500640752</td></tr><tr><td>3</td><td>Middle East</td><td>7091</td><td>42654</td><td>6.015230573967</td></tr><tr><td>1</td><td>Americas</td><td>6413</td><td>39712</td><td>6.192421643536567</td></tr><tr><td>3</td><td>Americas</td><td>5982</td><td>18780</td><td>3.139418254764293</td></tr><tr><td>2</td><td>Asia</td><td>2099</td><td>20243</td><td>9.644116245831349</td></tr><tr><td>3</td><td>Europe</td><td>1020</td><td>20640</td><td>20.235294117647058</td></tr><tr><td>2</td><td>Europe</td><td>412</td><td>2684</td><td>6.514563106796117</td></tr></tbody></table></div>"
      ]
     },
     "metadata": {
      "application/vnd.databricks.v1+output": {
       "addedWidgets": {},
       "aggData": [],
       "aggError": "",
       "aggOverflow": false,
       "aggSchema": [],
       "aggSeriesLimitReached": false,
       "aggType": "",
       "arguments": {},
       "columnCustomDisplayInfos": {},
       "data": [
        [
         1,
         "Middle East",
         94378,
         552542,
         5.854563563542351
        ],
        [
         1,
         "Asia",
         75676,
         504511,
         6.666723928326022
        ],
        [
         1,
         "Africa",
         28445,
         614883,
         21.61655827034628
        ],
        [
         1,
         "Europe",
         22597,
         187117,
         8.280612470681948
        ],
        [
         3,
         "Africa",
         20284,
         1000012,
         49.30053243936107
        ],
        [
         2,
         "Americas",
         17856,
         112786,
         6.316420250896058
        ],
        [
         3,
         "Asia",
         14290,
         53428,
         3.7388383484954515
        ],
        [
         2,
         "Middle East",
         10911,
         61351,
         5.622857666575016
        ],
        [
         2,
         "Africa",
         9364,
         126003,
         13.456108500640752
        ],
        [
         3,
         "Middle East",
         7091,
         42654,
         6.015230573967
        ],
        [
         1,
         "Americas",
         6413,
         39712,
         6.192421643536567
        ],
        [
         3,
         "Americas",
         5982,
         18780,
         3.139418254764293
        ],
        [
         2,
         "Asia",
         2099,
         20243,
         9.644116245831349
        ],
        [
         3,
         "Europe",
         1020,
         20640,
         20.235294117647058
        ],
        [
         2,
         "Europe",
         412,
         2684,
         6.514563106796117
        ]
       ],
       "datasetInfos": [],
       "dbfsResultPath": null,
       "isJsonSchema": true,
       "metadata": {
        "isDbfsCommandResult": false
       },
       "overflow": false,
       "plotOptions": {
        "customPlotOptions": {},
        "displayType": "table",
        "pivotAggregation": null,
        "pivotColumns": null,
        "xColumns": null,
        "yColumns": null
       },
       "removedWidgets": [],
       "schema": [
        {
         "metadata": "{}",
         "name": "type_of_violence",
         "type": "\"integer\""
        },
        {
         "metadata": "{}",
         "name": "region",
         "type": "\"string\""
        },
        {
         "metadata": "{}",
         "name": "conflict_incidents",
         "type": "\"long\""
        },
        {
         "metadata": "{}",
         "name": "casualties",
         "type": "\"long\""
        },
        {
         "metadata": "{}",
         "name": "AVG_casualties",
         "type": "\"double\""
        }
       ],
       "type": "table"
      }
     },
     "output_type": "display_data"
    }
   ],
   "source": [
    "%sql\n",
    "SELECT\n",
    "\ttype_of_violence,\n",
    "    region,\n",
    "    COUNT(*) AS conflict_incidents,\n",
    "    SUM(best) AS casualties,\n",
    "    AVG(best) AS AVG_casualties\n",
    "FROM global_conflicts\n",
    "GROUP BY type_of_violence, region\n",
    "ORDER BY conflict_incidents DESC;"
   ]
  },
  {
   "cell_type": "markdown",
   "metadata": {
    "application/vnd.databricks.v1+cell": {
     "cellMetadata": {
      "byteLimit": 2048000,
      "rowLimit": 10000
     },
     "inputWidgets": {},
     "nuid": "e0ae93b1-6629-4f2d-a19b-35b3cdc43dc3",
     "showTitle": false,
     "title": ""
    }
   },
   "source": [
    "**Analysis by Region**</p>By examining civilian casualties, this query helps identify the years with the highest civilian casualties, shedding light on the severity of different conflicts over time."
   ]
  },
  {
   "cell_type": "code",
   "execution_count": null,
   "metadata": {
    "application/vnd.databricks.v1+cell": {
     "cellMetadata": {
      "byteLimit": 2048000,
      "rowLimit": 10000
     },
     "inputWidgets": {},
     "nuid": "7f113206-1cc9-4e7c-84ee-072494180814",
     "showTitle": false,
     "title": ""
    }
   },
   "outputs": [
    {
     "data": {
      "text/html": [
       "<style scoped>\n",
       "  .table-result-container {\n",
       "    max-height: 300px;\n",
       "    overflow: auto;\n",
       "  }\n",
       "  table, th, td {\n",
       "    border: 1px solid black;\n",
       "    border-collapse: collapse;\n",
       "  }\n",
       "  th, td {\n",
       "    padding: 5px;\n",
       "  }\n",
       "  th {\n",
       "    text-align: left;\n",
       "  }\n",
       "</style><div class='table-result-container'><table class='table-result'><thead style='background-color: white'><tr><th>region</th><th>conflict_incidents</th><th>casualties</th><th>AVG_casualties</th></tr></thead><tbody><tr><td>Middle East</td><td>112380</td><td>656547</td><td>5.842205018686599</td></tr><tr><td>Asia</td><td>92065</td><td>578182</td><td>6.280149894096562</td></tr><tr><td>Africa</td><td>58093</td><td>1740898</td><td>29.967431532198372</td></tr><tr><td>Americas</td><td>30251</td><td>171278</td><td>5.661895474529768</td></tr><tr><td>Europe</td><td>24029</td><td>210441</td><td>8.757792667193808</td></tr></tbody></table></div>"
      ]
     },
     "metadata": {
      "application/vnd.databricks.v1+output": {
       "addedWidgets": {},
       "aggData": [],
       "aggError": "",
       "aggOverflow": false,
       "aggSchema": [],
       "aggSeriesLimitReached": false,
       "aggType": "",
       "arguments": {},
       "columnCustomDisplayInfos": {},
       "data": [
        [
         "Middle East",
         112380,
         656547,
         5.842205018686599
        ],
        [
         "Asia",
         92065,
         578182,
         6.280149894096562
        ],
        [
         "Africa",
         58093,
         1740898,
         29.967431532198372
        ],
        [
         "Americas",
         30251,
         171278,
         5.661895474529768
        ],
        [
         "Europe",
         24029,
         210441,
         8.757792667193808
        ]
       ],
       "datasetInfos": [],
       "dbfsResultPath": null,
       "isJsonSchema": true,
       "metadata": {
        "isDbfsCommandResult": false
       },
       "overflow": false,
       "plotOptions": {
        "customPlotOptions": {},
        "displayType": "table",
        "pivotAggregation": null,
        "pivotColumns": null,
        "xColumns": null,
        "yColumns": null
       },
       "removedWidgets": [],
       "schema": [
        {
         "metadata": "{}",
         "name": "region",
         "type": "\"string\""
        },
        {
         "metadata": "{}",
         "name": "conflict_incidents",
         "type": "\"long\""
        },
        {
         "metadata": "{}",
         "name": "casualties",
         "type": "\"long\""
        },
        {
         "metadata": "{}",
         "name": "AVG_casualties",
         "type": "\"double\""
        }
       ],
       "type": "table"
      }
     },
     "output_type": "display_data"
    }
   ],
   "source": [
    "%sql\n",
    "SELECT\n",
    "\tregion,\n",
    "    COUNT(*) AS conflict_incidents,\n",
    "    SUM(best) AS casualties,\n",
    "    AVG(best) AS AVG_casualties\n",
    "FROM global_conflicts\n",
    "GROUP BY region\n",
    "ORDER BY conflict_incidents DESC;"
   ]
  },
  {
   "cell_type": "markdown",
   "metadata": {
    "application/vnd.databricks.v1+cell": {
     "cellMetadata": {
      "byteLimit": 2048000,
      "rowLimit": 10000
     },
     "inputWidgets": {},
     "nuid": "bcfb8c08-675c-410f-9d52-cba27930f593",
     "showTitle": false,
     "title": ""
    }
   },
   "source": [
    "**Civilian Casualties Over Time**</p>By examining civilian casualties, this query helps identify the years with the highest civilian casualties, shedding light on the severity of different conflicts over time."
   ]
  },
  {
   "cell_type": "code",
   "execution_count": null,
   "metadata": {
    "application/vnd.databricks.v1+cell": {
     "cellMetadata": {
      "byteLimit": 2048000,
      "rowLimit": 10000
     },
     "inputWidgets": {},
     "nuid": "d6da4e43-62a0-432f-910c-ee98d8349acc",
     "showTitle": false,
     "title": ""
    }
   },
   "outputs": [
    {
     "data": {
      "text/html": [
       "<style scoped>\n",
       "  .table-result-container {\n",
       "    max-height: 300px;\n",
       "    overflow: auto;\n",
       "  }\n",
       "  table, th, td {\n",
       "    border: 1px solid black;\n",
       "    border-collapse: collapse;\n",
       "  }\n",
       "  th, td {\n",
       "    padding: 5px;\n",
       "  }\n",
       "  th {\n",
       "    text-align: left;\n",
       "  }\n",
       "</style><div class='table-result-container'><table class='table-result'><thead style='background-color: white'><tr><th>event_year</th><th>casualties</th><th>civilians</th></tr></thead><tbody><tr><td>2022</td><td>237912</td><td>34954</td></tr><tr><td>2021</td><td>121257</td><td>15790</td></tr><tr><td>2020</td><td>87310</td><td>13959</td></tr><tr><td>2019</td><td>79425</td><td>11685</td></tr><tr><td>2018</td><td>86172</td><td>14276</td></tr><tr><td>2017</td><td>104676</td><td>29122</td></tr><tr><td>2016</td><td>112621</td><td>26409</td></tr><tr><td>2015</td><td>128126</td><td>29417</td></tr><tr><td>2014</td><td>149623</td><td>35349</td></tr><tr><td>2013</td><td>111345</td><td>32941</td></tr><tr><td>2012</td><td>86388</td><td>28632</td></tr><tr><td>2011</td><td>39261</td><td>9384</td></tr><tr><td>2010</td><td>31552</td><td>5820</td></tr><tr><td>2009</td><td>48265</td><td>14894</td></tr><tr><td>2008</td><td>37987</td><td>6701</td></tr><tr><td>2007</td><td>28711</td><td>5951</td></tr><tr><td>2006</td><td>27634</td><td>5991</td></tr><tr><td>2005</td><td>19734</td><td>5590</td></tr><tr><td>2004</td><td>35058</td><td>12253</td></tr><tr><td>2003</td><td>38652</td><td>12895</td></tr><tr><td>2002</td><td>41361</td><td>15171</td></tr><tr><td>2001</td><td>37588</td><td>10279</td></tr><tr><td>2000</td><td>93719</td><td>9823</td></tr><tr><td>1999</td><td>99164</td><td>15871</td></tr><tr><td>1998</td><td>61064</td><td>20074</td></tr><tr><td>1997</td><td>64482</td><td>21378</td></tr><tr><td>1996</td><td>71957</td><td>40359</td></tr><tr><td>1995</td><td>61132</td><td>27212</td></tr><tr><td>1994</td><td>823583</td><td>782530</td></tr><tr><td>1993</td><td>68074</td><td>15914</td></tr><tr><td>1992</td><td>76082</td><td>24141</td></tr><tr><td>1991</td><td>84382</td><td>14372</td></tr><tr><td>1990</td><td>95677</td><td>11394</td></tr><tr><td>1989</td><td>67372</td><td>9916</td></tr></tbody></table></div>"
      ]
     },
     "metadata": {
      "application/vnd.databricks.v1+output": {
       "addedWidgets": {},
       "aggData": [],
       "aggError": "",
       "aggOverflow": false,
       "aggSchema": [],
       "aggSeriesLimitReached": false,
       "aggType": "",
       "arguments": {},
       "columnCustomDisplayInfos": {},
       "data": [
        [
         2022,
         237912,
         34954
        ],
        [
         2021,
         121257,
         15790
        ],
        [
         2020,
         87310,
         13959
        ],
        [
         2019,
         79425,
         11685
        ],
        [
         2018,
         86172,
         14276
        ],
        [
         2017,
         104676,
         29122
        ],
        [
         2016,
         112621,
         26409
        ],
        [
         2015,
         128126,
         29417
        ],
        [
         2014,
         149623,
         35349
        ],
        [
         2013,
         111345,
         32941
        ],
        [
         2012,
         86388,
         28632
        ],
        [
         2011,
         39261,
         9384
        ],
        [
         2010,
         31552,
         5820
        ],
        [
         2009,
         48265,
         14894
        ],
        [
         2008,
         37987,
         6701
        ],
        [
         2007,
         28711,
         5951
        ],
        [
         2006,
         27634,
         5991
        ],
        [
         2005,
         19734,
         5590
        ],
        [
         2004,
         35058,
         12253
        ],
        [
         2003,
         38652,
         12895
        ],
        [
         2002,
         41361,
         15171
        ],
        [
         2001,
         37588,
         10279
        ],
        [
         2000,
         93719,
         9823
        ],
        [
         1999,
         99164,
         15871
        ],
        [
         1998,
         61064,
         20074
        ],
        [
         1997,
         64482,
         21378
        ],
        [
         1996,
         71957,
         40359
        ],
        [
         1995,
         61132,
         27212
        ],
        [
         1994,
         823583,
         782530
        ],
        [
         1993,
         68074,
         15914
        ],
        [
         1992,
         76082,
         24141
        ],
        [
         1991,
         84382,
         14372
        ],
        [
         1990,
         95677,
         11394
        ],
        [
         1989,
         67372,
         9916
        ]
       ],
       "datasetInfos": [],
       "dbfsResultPath": null,
       "isJsonSchema": true,
       "metadata": {
        "isDbfsCommandResult": false
       },
       "overflow": false,
       "plotOptions": {
        "customPlotOptions": {},
        "displayType": "table",
        "pivotAggregation": null,
        "pivotColumns": null,
        "xColumns": null,
        "yColumns": null
       },
       "removedWidgets": [],
       "schema": [
        {
         "metadata": "{}",
         "name": "event_year",
         "type": "\"integer\""
        },
        {
         "metadata": "{}",
         "name": "casualties",
         "type": "\"long\""
        },
        {
         "metadata": "{}",
         "name": "civilians",
         "type": "\"long\""
        }
       ],
       "type": "table"
      }
     },
     "output_type": "display_data"
    }
   ],
   "source": [
    "%sql\n",
    "SELECT\n",
    "  YEAR(year) AS event_year,\n",
    "\tSUM(best) AS casualties,\n",
    "  SUM(deaths_civilians) AS civilians\n",
    "FROM global_conflicts\n",
    "GROUP BY year\n",
    "ORDER BY year DESC;"
   ]
  },
  {
   "cell_type": "markdown",
   "metadata": {
    "application/vnd.databricks.v1+cell": {
     "cellMetadata": {
      "byteLimit": 2048000,
      "rowLimit": 10000
     },
     "inputWidgets": {},
     "nuid": "2293abcb-79c5-48a8-af6f-f3eea1296328",
     "showTitle": false,
     "title": ""
    }
   },
   "source": [
    "**Most Frequent Country-Party Conflicts**</p>Lastly, this query identifies the countries and parties involved in the most conflicts, revealing regions with the highest occurrence of conflicts and the entities primarily responsible."
   ]
  },
  {
   "cell_type": "code",
   "execution_count": null,
   "metadata": {
    "application/vnd.databricks.v1+cell": {
     "cellMetadata": {
      "byteLimit": 2048000,
      "rowLimit": 10000
     },
     "inputWidgets": {},
     "nuid": "1553f574-a8ea-4b1a-9d1c-46bdfa0595d5",
     "showTitle": false,
     "title": ""
    }
   },
   "outputs": [
    {
     "data": {
      "text/html": [
       "<style scoped>\n",
       "  .table-result-container {\n",
       "    max-height: 300px;\n",
       "    overflow: auto;\n",
       "  }\n",
       "  table, th, td {\n",
       "    border: 1px solid black;\n",
       "    border-collapse: collapse;\n",
       "  }\n",
       "  th, td {\n",
       "    padding: 5px;\n",
       "  }\n",
       "  th {\n",
       "    text-align: left;\n",
       "  }\n",
       "</style><div class='table-result-container'><table class='table-result'><thead style='background-color: white'><tr><th>country</th><th>side_a</th><th>side_b</th><th>conflict_incidents</th></tr></thead><tbody><tr><td>Syria</td><td>Government of Syria</td><td>Syrian insurgents</td><td>65171</td></tr><tr><td>Afghanistan</td><td>Government of Afghanistan</td><td>Taleban</td><td>35645</td></tr><tr><td>India</td><td>Government of India</td><td>Kashmir insurgents</td><td>7014</td></tr><tr><td>Syria</td><td>Government of Syria</td><td>IS</td><td>6321</td></tr><tr><td>Turkey</td><td>Government of Turkey</td><td>PKK</td><td>5835</td></tr><tr><td>Bosnia-Herzegovina</td><td>Government of Bosnia-Herzegovina</td><td>Serbian Republic of Bosnia-Herzegovina</td><td>5525</td></tr><tr><td>Iraq</td><td>Government of Iraq</td><td>IS</td><td>5356</td></tr><tr><td>Ukraine</td><td>Government of Russia (Soviet Union)</td><td>Government of Ukraine</td><td>4604</td></tr><tr><td>Somalia</td><td>Government of Somalia</td><td>Al-Shabaab</td><td>4400</td></tr><tr><td>Sri Lanka</td><td>Government of Sri Lanka</td><td>LTTE</td><td>4007</td></tr></tbody></table></div>"
      ]
     },
     "metadata": {
      "application/vnd.databricks.v1+output": {
       "addedWidgets": {},
       "aggData": [],
       "aggError": "",
       "aggOverflow": false,
       "aggSchema": [],
       "aggSeriesLimitReached": false,
       "aggType": "",
       "arguments": {},
       "columnCustomDisplayInfos": {},
       "data": [
        [
         "Syria",
         "Government of Syria",
         "Syrian insurgents",
         65171
        ],
        [
         "Afghanistan",
         "Government of Afghanistan",
         "Taleban",
         35645
        ],
        [
         "India",
         "Government of India",
         "Kashmir insurgents",
         7014
        ],
        [
         "Syria",
         "Government of Syria",
         "IS",
         6321
        ],
        [
         "Turkey",
         "Government of Turkey",
         "PKK",
         5835
        ],
        [
         "Bosnia-Herzegovina",
         "Government of Bosnia-Herzegovina",
         "Serbian Republic of Bosnia-Herzegovina",
         5525
        ],
        [
         "Iraq",
         "Government of Iraq",
         "IS",
         5356
        ],
        [
         "Ukraine",
         "Government of Russia (Soviet Union)",
         "Government of Ukraine",
         4604
        ],
        [
         "Somalia",
         "Government of Somalia",
         "Al-Shabaab",
         4400
        ],
        [
         "Sri Lanka",
         "Government of Sri Lanka",
         "LTTE",
         4007
        ]
       ],
       "datasetInfos": [],
       "dbfsResultPath": null,
       "isJsonSchema": true,
       "metadata": {
        "isDbfsCommandResult": false
       },
       "overflow": false,
       "plotOptions": {
        "customPlotOptions": {},
        "displayType": "table",
        "pivotAggregation": null,
        "pivotColumns": null,
        "xColumns": null,
        "yColumns": null
       },
       "removedWidgets": [],
       "schema": [
        {
         "metadata": "{}",
         "name": "country",
         "type": "\"string\""
        },
        {
         "metadata": "{}",
         "name": "side_a",
         "type": "\"string\""
        },
        {
         "metadata": "{}",
         "name": "side_b",
         "type": "\"string\""
        },
        {
         "metadata": "{}",
         "name": "conflict_incidents",
         "type": "\"long\""
        }
       ],
       "type": "table"
      }
     },
     "output_type": "display_data"
    }
   ],
   "source": [
    "%sql\n",
    "SELECT\n",
    " country,\n",
    " side_a,\n",
    " side_b,\n",
    " COUNT(*) as conflict_incidents\n",
    "FROM global_conflicts\n",
    "GROUP BY  country, side_a, side_b\n",
    "ORDER BY conflict_incidents DESC\n",
    "LIMIT 10"
   ]
  },
  {
   "cell_type": "markdown",
   "metadata": {
    "application/vnd.databricks.v1+cell": {
     "cellMetadata": {
      "byteLimit": 2048000,
      "rowLimit": 10000
     },
     "inputWidgets": {},
     "nuid": "7cb88dc7-47b7-402a-84d7-d2c2f2259671",
     "showTitle": false,
     "title": ""
    }
   },
   "source": [
    "### Insights from the Query Results\n",
    "\n",
    "**1. What types of conflicts are most prevalent across different regions?**\n",
    "- Middle East, Asia & Europe: These regions experience a higher prevalence of **state-based conflicts**, driven by political power struggles and geopolitical tensions.\n",
    "\n",
    "- Africa: Both **state-based conflicts** and **one-sided violence** prevail, showcasing varied and nuanced conflicts.\n",
    "\n",
    "- Americas: This region witnesses relatively higher instances of **non-state conflicts**,  involving armed groups, rebel factions, or insurgent movements challenging established authority, contributing to complex conflicts.\n",
    "\n",
    "**2. How do casualties evolve from year to year, revealing shifts in conflict trends?**</p>\n",
    "Examining the parties involved and casualty trends across the analyzed decades unveils clear patterns: a surge in the 1990s, notably marked by the Rwandan Genocide, followed by a downturn in the 2000s. The fluctuations observed in the 2010s can be linked to the intricate dynamics of the Syrian Civil War, while the onset of the 2020s witnesses a sudden escalation due to ongoing conflicts and emerging crises.\n",
    "\n",
    "**3. What insights can we glean from studying conflict occurrences and casualties by type and region?**</p>\n",
    "  By studying the involvement of countries and parties in conflicts, we can identify persistent conflict hotspots. The Middle East and Asia consistently top the list, reflecting ongoing geopolitical tensions and power struggles. The dominance of state actors in these conflicts emphasizes the significance of international diplomacy and cooperation in addressing these issues. On the other hand, Africa's presence in conflict incidents and casualties highlights the challenges in managing conflicts.</p>\n",
    "  \n",
    "  Analyzing civilian casualties helps us recognize specific years with significant civilian casualties, shedding light on the severity of conflicts over time. For instance, the years 1994 and 2014 stand out as periods with exceptionally high civilian casualties</p>\n",
    "\n",
    "### What's Next?\n",
    "\n",
    "Looking ahead, there are various pathways to delve into:\n",
    "\n",
    "  1. **Causal Analysis**: Delve deeper into understanding the elements that contribute to the prominence of particular conflict types within specific regions and their transformative trajectory over time.\n",
    "\n",
    "  2. **Humanitarian Impact**: Probe into the humanitarian repercussions stemming from conflict trends, with a concentrated focus on displaced communities and the essential requirements for assistance.\n",
    "\n",
    "\n",
    "### Data Visualization\n",
    "\n",
    "In addition to the SQL analysis, a dynamic ***[dashboard/report](https://app.powerbi.com/view?r=eyJrIjoiOGMxNjQwODgtOTk3ZS00YzM3LWJjZGQtZWM4YjZiYzJmNGQ0IiwidCI6IjRkYTk4NTcxLWRjZWEtNDgzOS04ZmIxLTBiZGQ1ZGM5NjlmOSIsImMiOjEwfQ%3D%3D)*** was created in Power BI to visualize the insights extracted from the UCDP dataset. This interactive dashboard provides an intuitive visual representation of conflict patterns, casualty trends, and regional distributions. It complements the SQL analysis by offering a comprehensive and accessible way to grasp the intricate dynamics of global conflicts.</p>![Power BI report](assets/global_conflicts_viz.png)</p>\n",
    "\n",
    "### Conclusion\n",
    "\n",
    "The analysis reveals varying types of violence across regions and years. In the Middle East, Asia, and Europe, state-based conflicts prevail; Africa contends with both state-based and one-sided violence, while the Americas primarily experience non-state conflicts. These patterns underscore the diversity of global conflicts. Examining shifting casualty trends over time offers insights into evolving conflicts, identifying recurring hotspots necessitating diplomatic attention. The Middle East and Asia demand interventions, and Africa's dual significance underscores the challenge of addressing non-state conflicts. Pursuing these insights establishes the groundwork for a world where conflicts are better understood, effectively managed, and ultimately reduced, contributing to a more harmonious global landscape.\n",
    "\n",
    "## Data Source\n",
    "[UCDP Georeferenced Event Dataset (GED) Global version 23.1](https://ucdp.uu.se/downloads/index.html)</p>\n",
    "Davies, Shawn, Therese Pettersson & Magnus Öberg (2023). Organized violence 1989-2022 and the return of conflicts between states?. Journal of Peace Research 60(4)."
   ]
  }
 ],
 "metadata": {
  "application/vnd.databricks.v1+notebook": {
   "dashboards": [],
   "language": "python",
   "notebookMetadata": {
    "pythonIndentUnit": 4
   },
   "notebookName": "global_conflicts",
   "widgets": {}
  },
  "language_info": {
   "name": "python"
  }
 },
 "nbformat": 4,
 "nbformat_minor": 0
}
